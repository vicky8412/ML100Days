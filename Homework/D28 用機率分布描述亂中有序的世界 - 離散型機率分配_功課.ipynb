{
 "cells": [
  {
   "cell_type": "code",
   "execution_count": 1,
   "metadata": {},
   "outputs": [
    {
     "name": "stdout",
     "output_type": "stream",
     "text": [
      "丟一個銅板100次出現50次正面的機率 = 0.07958923738717888\n"
     ]
    }
   ],
   "source": [
    "from scipy.stats import binom\n",
    "\n",
    "# 伯努利分配 (Bernoulli Distribution)\n",
    "p = 0.5 # 假設為公正硬幣，正面反面機率皆為 0.5\n",
    "n = 100 # 重複實驗100次\n",
    "r = 50  # 硬幣出現正面的次數\n",
    "\n",
    "# 二項分佈的概率質量分佈 (probability mass function)\n",
    "print('丟一個銅板100次出現50次正面的機率 =',binom.pmf(r, n, p))"
   ]
  },
  {
   "cell_type": "code",
   "execution_count": null,
   "metadata": {},
   "outputs": [],
   "source": []
  }
 ],
 "metadata": {
  "kernelspec": {
   "display_name": "Python 3",
   "language": "python",
   "name": "python3"
  },
  "language_info": {
   "codemirror_mode": {
    "name": "ipython",
    "version": 3
   },
   "file_extension": ".py",
   "mimetype": "text/x-python",
   "name": "python",
   "nbconvert_exporter": "python",
   "pygments_lexer": "ipython3",
   "version": "3.8.5"
  }
 },
 "nbformat": 4,
 "nbformat_minor": 4
}
