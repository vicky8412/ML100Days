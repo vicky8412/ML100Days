{
 "cells": [
  {
   "cell_type": "code",
   "execution_count": 1,
   "metadata": {},
   "outputs": [],
   "source": [
    "# library\n",
    "import matplotlib.pyplot as plt\n",
    "import numpy as np\n",
    "import pandas as pd\n",
    "import seaborn  as sns\n",
    "from scipy import stats\n",
    "import math\n",
    "import statistics\n",
    "#讓圖可以在 jupyter notebook顯示\n",
    "%matplotlib inline"
   ]
  },
  {
   "cell_type": "code",
   "execution_count": 3,
   "metadata": {},
   "outputs": [],
   "source": [
    "df_train = pd.read_csv(\"Titanic_test.csv\")"
   ]
  },
  {
   "cell_type": "code",
   "execution_count": 4,
   "metadata": {},
   "outputs": [
    {
     "name": "stdout",
     "output_type": "stream",
     "text": [
      "35.6271884892086\n",
      "55.90757617997383\n"
     ]
    }
   ],
   "source": [
    "print(df_train[\"Fare\"].mean()) #Fare平均\n",
    "print(df_train[\"Fare\"].std()) #Fare標準差"
   ]
  },
  {
   "cell_type": "code",
   "execution_count": 5,
   "metadata": {},
   "outputs": [
    {
     "name": "stdout",
     "output_type": "stream",
     "text": [
      "count    417.000000\n",
      "mean      35.627188\n",
      "std       55.907576\n",
      "min        0.000000\n",
      "25%        7.895800\n",
      "50%       14.454200\n",
      "75%       31.500000\n",
      "max      512.329200\n",
      "Name: Fare, dtype: float64\n"
     ]
    },
    {
     "data": {
      "text/plain": [
       "(array([266, 372], dtype=int64),)"
      ]
     },
     "execution_count": 5,
     "metadata": {},
     "output_type": "execute_result"
    }
   ],
   "source": [
    " 方法1 進行一個描述性的統計（規定範圍），從而檢視哪些值是不合理的（範圍以外的值）。\n",
    "print(df_train[\"Fare\"].describe())\n",
    "np.where(df_train[\"Fare\"]==0)\n",
    "\n",
    "# 票價皆為正數，但票價為零有點不合理"
   ]
  },
  {
   "cell_type": "code",
   "execution_count": 7,
   "metadata": {},
   "outputs": [
    {
     "name": "stdout",
     "output_type": "stream",
     "text": [
      "[ 24  53  59  64  69  74  75  81 114 142 156 184 202 218 324 343 375 407]\n",
      "票價位於三倍標準差外的值有哪些?\n",
      "24     262.3750\n",
      "53     263.0000\n",
      "59     262.3750\n",
      "64     262.3750\n",
      "69     263.0000\n",
      "74     211.5000\n",
      "75     211.5000\n",
      "81     221.7792\n",
      "114    221.7792\n",
      "142    262.3750\n",
      "156    221.7792\n",
      "184    247.5208\n",
      "202    227.5250\n",
      "218    211.5000\n",
      "324    211.3375\n",
      "343    512.3292\n",
      "375    262.3750\n",
      "407    211.5000\n",
      "Name: Fare, dtype: float64\n"
     ]
    }
   ],
   "source": [
    "方法 2\n",
    "進行3倍標準差原則的計算，從而檢視哪些值是可疑的異常值\n",
    "\n",
    "def outliers_z_score(ys,times):\n",
    "    mean_y = np.mean(ys)\n",
    "    stdev_y = np.std(ys)\n",
    "    z_scores = [(y - mean_y) / stdev_y for y in ys]\n",
    "    return np.where(np.abs(z_scores) > times)\n",
    "\n",
    "out_index=outliers_z_score(df_train['Fare'],3)\n",
    "print(out_index[0])\n",
    "print(\"票價位於三倍標準差外的值有哪些?\")\n",
    "print(df_train.loc[out_index[0],'Fare'])"
   ]
  },
  {
   "cell_type": "code",
   "execution_count": 8,
   "metadata": {},
   "outputs": [
    {
     "name": "stdout",
     "output_type": "stream",
     "text": [
      "(array([ 12,  24,  53,  59,  64,  69,  74,  75,  81,  96, 114, 141, 142,\n",
      "       150, 156, 179, 181, 184, 196, 202, 217, 218, 239, 242, 252, 272,\n",
      "       287, 293, 306, 308, 314, 316, 324, 327, 343, 371, 374, 375, 390,\n",
      "       397, 400, 407, 411, 414], dtype=int64),)\n",
      "outlier有哪些?(2倍IQR)\n",
      "12      82.2667\n",
      "24     262.3750\n",
      "53     263.0000\n",
      "59     262.3750\n",
      "64     262.3750\n",
      "69     263.0000\n",
      "74     211.5000\n",
      "75     211.5000\n",
      "81     221.7792\n",
      "96      78.8500\n",
      "114    221.7792\n",
      "141    151.5500\n",
      "142    262.3750\n",
      "150     83.1583\n",
      "156    221.7792\n",
      "179     83.1583\n",
      "181     83.1583\n",
      "184    247.5208\n",
      "196    134.5000\n",
      "202    227.5250\n",
      "217    164.8667\n",
      "218    211.5000\n",
      "239    106.4250\n",
      "242    134.5000\n",
      "252    136.7792\n",
      "272    136.7792\n",
      "287     82.2667\n",
      "293     81.8583\n",
      "306    151.5500\n",
      "308     93.5000\n",
      "314    135.6333\n",
      "316    146.5208\n",
      "324    211.3375\n",
      "327     79.2000\n",
      "343    512.3292\n",
      "371    134.5000\n",
      "374     81.8583\n",
      "375    262.3750\n",
      "390     93.5000\n",
      "397     79.2000\n",
      "400    164.8667\n",
      "407    211.5000\n",
      "411     90.0000\n",
      "414    108.9000\n",
      "Name: Fare, dtype: float64\n"
     ]
    }
   ],
   "source": [
    "方法3-盒鬚圖判別法(IQR method)\n",
    "\n",
    "def outliers_iqr(ys,times):\n",
    "    quartile_1, quartile_3 = np.nanpercentile(ys, [25, 75])\n",
    "    iqr = quartile_3 - quartile_1\n",
    "    lower_bound = quartile_1 - (iqr * times)\n",
    "    upper_bound = quartile_3 + (iqr * times)\n",
    "    return np.where((ys > upper_bound) | (ys < lower_bound))\n",
    "\n",
    "out_index2=outliers_iqr(df_train[\"Fare\"],2)\n",
    "print(out_index2)\n",
    "print(\"outlier有哪些?(2倍IQR)\")\n",
    "print(df_train.loc[out_index2[0],\"Fare\"])"
   ]
  },
  {
   "cell_type": "code",
   "execution_count": 9,
   "metadata": {},
   "outputs": [
    {
     "data": {
      "image/png": "[encoded data removed]",
      "text/plain": [
       "<Figure size 432x288 with 1 Axes>"
      ]
     },
     "metadata": {
      "needs_background": "light"
     },
     "output_type": "display_data"
    }
   ],
   "source": [
    "plt.boxplot(df_train['Fare'][~np.isnan(df_train['Fare'])],whis=2)    #作圖\n",
    "plt.title('Box Plot')\n",
    "plt.show()"
   ]
  },
  {
   "cell_type": "code",
   "execution_count": 10,
   "metadata": {},
   "outputs": [
    {
     "name": "stdout",
     "output_type": "stream",
     "text": [
      "24     1\n",
      "53     1\n",
      "59     1\n",
      "64     1\n",
      "69     1\n",
      "74     1\n",
      "75     1\n",
      "81     1\n",
      "114    1\n",
      "142    1\n",
      "156    1\n",
      "184    1\n",
      "202    1\n",
      "218    1\n",
      "324    1\n",
      "343    1\n",
      "375    1\n",
      "407    1\n",
      "Name: Pclass, dtype: int64\n"
     ]
    }
   ],
   "source": [
    "#並不是，正常來說郵輪有艙等之分，方法一及方法二找出之異常直皆為票價過高的資料，但若核對這些高票價皆是一樣的艙位，則為正常現象不需做處理。\n",
    "\n",
    "print(df_train.loc[out_index[0],\"Pclass\"])\n",
    "#異常值之資料皆集中於艙等 1\n",
    "\n",
    "或另一個想法是\n",
    "不一定是真的異常值，可能會依艙等不同而有不同的票價，故需要額外資訊來輔助判斷。"
   ]
  },
  {
   "cell_type": "code",
   "execution_count": null,
   "metadata": {},
   "outputs": [],
   "source": []
  }
 ],
 "metadata": {
  "kernelspec": {
   "display_name": "Python 3",
   "language": "python",
   "name": "python3"
  },
  "language_info": {
   "codemirror_mode": {
    "name": "ipython",
    "version": 3
   },
   "file_extension": ".py",
   "mimetype": "text/x-python",
   "name": "python",
   "nbconvert_exporter": "python",
   "pygments_lexer": "ipython3",
   "version": "3.8.5"
  }
 },
 "nbformat": 4,
 "nbformat_minor": 4
}
