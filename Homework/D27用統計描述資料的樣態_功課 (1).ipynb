{
 "cells": [
  {
   "cell_type": "markdown",
   "metadata": {},
   "source": [
    "# 作業:\n",
    "今天學到不同統計量之間特性，\n",
    "試著分析男生女生身高資料，\n",
    "試著回答下面的問題:\n",
    "Q1:試著用今天所教的內容，如何描述這兩組資料的樣態?\n",
    "Q2: 請問男生和女生在平均身高上誰比較高?\n",
    "Q3:請問第二題的答案和日常生活中觀察的一致嗎? 如果不一致，你覺得原因可能為何?\n",
    "上述問題透過 python 語法進行運算， 並將上述答案填寫在 (google 表單)[https://docs.google.com/forms/d/e/1FAIpQLSdDzwpeJl8YLPwZaW8pBZvtuXY9kIbbZLqxcXyzFaoraV5JEA/viewform ]"
   ]
  },
  {
   "cell_type": "code",
   "execution_count": 1,
   "metadata": {},
   "outputs": [],
   "source": [
    "# library\n",
    "import matplotlib.pyplot as plt\n",
    "import numpy as np\n",
    "import pandas as pd\n",
    "from scipy import stats\n",
    "import math\n",
    "import statistics\n",
    "import seaborn as sns"
   ]
  },
  {
   "cell_type": "code",
   "execution_count": 2,
   "metadata": {},
   "outputs": [],
   "source": [
    "## 輸入資料\n",
    "boys = [164,176,169,169,165,175,159,151,144,\n",
    "             160,183,165,156,170,164,173,165,177,171]\n",
    "girls= [169,183,170,168,182,170,173,185,151,\n",
    "              156,162,169,162,181,159,154,167,175,170,160]"
   ]
  },
  {
   "cell_type": "code",
   "execution_count": 10,
   "metadata": {},
   "outputs": [
    {
     "name": "stdout",
     "output_type": "stream",
     "text": [
      "男孩身高平均= 166.10526315789474\n",
      "女生身高平均= 168.3\n",
      "男生身高中位數= 165.0\n",
      "女生身高中位數= 169.0\n",
      "男生身高眾數= 165\n",
      "女生身高眾數= 170\n",
      "男生身高全距= 39\n",
      "女生身高全距= 34\n",
      "男生身高標準差= 9.439248656788227\n",
      "女生身高標準差= 9.766214587465353\n",
      "男生身高偏度= -0.5122894189746449\n",
      "男生身高峰度= 0.10137857040306386\n",
      "女生身高偏度= 0.05985321129365068\n",
      "女生身高峰度= -0.8203607083948947\n",
      "90百分位數= 176.2\n",
      "50百分位數= 165.0\n",
      "20百分位數= 159.6\n",
      "20百分位數= 159.6\n",
      "90百分位數= 182.1\n",
      "50百分位數= 169.0\n",
      "20百分位數= 159.8\n",
      "20百分位數= 159.8\n"
     ]
    }
   ],
   "source": [
    "# 計算統計量_平均數的方法\n",
    "mean_boy=np.mean(boys)\n",
    "print(\"男孩身高平均=\",mean_boy)\n",
    "mean_girls=np.mean(girls)\n",
    "print(\"女生身高平均=\",mean_girls)\n",
    "\n",
    "# 計算統計量_中位數的方法\n",
    "np_median_boy=np.median(boys,axis=None)\n",
    "print(\"男生身高中位數=\",np_median_boy)\n",
    "np_median_girls=np.median(girls,axis=None)\n",
    "print(\"女生身高中位數=\",np_median_girls)\n",
    "\n",
    "# 統計量_眾數\n",
    "mode_boy = stats.mode(boys, axis=None)\n",
    "print(\"男生身高眾數=\", mode_boy[0][0])\n",
    "mode_girl = stats.mode(girls, axis=None)\n",
    "print(\"女生身高眾數=\", mode_girl[0][0])\n",
    "\n",
    "#全距\n",
    "def rangeV(x): \n",
    "  return(max(x)-min(x))\n",
    "print(\"男生身高全距=\", rangeV(boys))\n",
    "print(\"女生身高全距=\", rangeV(girls))\n",
    "\n",
    "#標準差\n",
    "std_boy = np.std(boys, ddof=1)\n",
    "print(\"男生身高標準差=\", std_boy)\n",
    "std_girl = np.std(girls, ddof=1)\n",
    "print(\"女生身高標準差=\", std_girl)\n",
    "\n",
    "#峰度和偏度\n",
    "print(\"男生身高偏度=\", stats.skew(boys))\n",
    "print(\"男生身高峰度=\", stats.kurtosis(boys))\n",
    "\n",
    "print(\"女生身高偏度=\", stats.skew(girls))\n",
    "print(\"女生身高峰度=\", stats.kurtosis(girls))\n",
    "\n",
    "# python 百分位數\n",
    "\n",
    "#np\n",
    "print(\"90百分位數=\",np.percentile(boys, 90))\n",
    "print(\"50百分位數=\",np.percentile(boys, 50))\n",
    "print(\"20百分位數=\",np.percentile(boys, 20))\n",
    "#stat\n",
    "print(\"20百分位數=\",stats.scoreatpercentile(boys, 20))\n",
    "#np\n",
    "print(\"90百分位數=\",np.percentile(girls, 90))\n",
    "print(\"50百分位數=\",np.percentile(girls, 50))\n",
    "print(\"20百分位數=\",np.percentile(girls, 20))\n",
    "#stat\n",
    "print(\"20百分位數=\",stats.scoreatpercentile(girls, 20))"
   ]
  },
  {
   "cell_type": "code",
   "execution_count": 19,
   "metadata": {},
   "outputs": [
    {
     "data": {
      "image/png": "[encoded data removed]",
      "text/plain": [
       "<Figure size 432x288 with 1 Axes>"
      ]
     },
     "metadata": {
      "needs_background": "light"
     },
     "output_type": "display_data"
    },
    {
     "data": {
      "image/png": "[encoded data removed]",
      "text/plain": [
       "<Figure size 432x288 with 1 Axes>"
      ]
     },
     "metadata": {
      "needs_background": "light"
     },
     "output_type": "display_data"
    },
    {
     "data": {
      "image/png": "[encoded data removed]",
      "text/plain": [
       "<Figure size 432x288 with 1 Axes>"
      ]
     },
     "metadata": {
      "needs_background": "light"
     },
     "output_type": "display_data"
    }
   ],
   "source": [
    "#畫圖看分析結果\n",
    "plt.hist(boys, alpha = .4, bins = 40)\n",
    "plt.title('boys, skewness = {0}, kurtosis = {1}'.format(round(stats.skew(boys), 2), round(stats.kurtosis(boys), 2)))\n",
    "plt.axvline(x = mean_boy)\n",
    "plt.show()\n",
    "\n",
    "#女生\n",
    "plt.hist(girls, alpha = .4, bins = 40, color = sns.desaturate(\"indianred\", .8))\n",
    "plt.title('girls, skewness = {0}, kurtosis = {1}'.format(round(stats.skew(girls), 2), round(stats.kurtosis(girls), 2)))\n",
    "plt.axvline(x = mean_girl, color = sns.desaturate(\"indianred\", .8))\n",
    "plt.show()\n",
    "\n",
    "#合併\n",
    "\n",
    "plt.hist(boys, alpha = .4)\n",
    "plt.hist(girls, alpha = .4, color = sns.desaturate(\"indianred\", .8))\n",
    "plt.title(\"all samples\")\n",
    "plt.axvline(x = mean_girl, color = sns.desaturate(\"indianred\", .8))\n",
    "plt.axvline(x = mean_boy)\n",
    "plt.show()"
   ]
  },
  {
   "cell_type": "code",
   "execution_count": 17,
   "metadata": {},
   "outputs": [
    {
     "name": "stdout",
     "output_type": "stream",
     "text": [
      "男生平均身高= 166.10526315789474\n",
      "女生平均身高= 168.3\n",
      "女生平均身高較高\n"
     ]
    }
   ],
   "source": [
    "#Q2: 請問男生和女生在平均身高上誰比較高? \n",
    "mean_boy = np.mean(boys)\n",
    "print(\"男生平均身高=\", mean_boy)\n",
    "mean_girl = np.mean(girls)\n",
    "print(\"女生平均身高=\", mean_girl)\n",
    "print(\"女生平均身高較高\")"
   ]
  },
  {
   "cell_type": "code",
   "execution_count": 18,
   "metadata": {},
   "outputs": [
    {
     "name": "stdout",
     "output_type": "stream",
     "text": [
      "不一致，可能因為抽樣的樣本導致的誤差\n"
     ]
    }
   ],
   "source": [
    "#Q3:請問第二題的答案和日常生活中觀察的一致嗎? 如果不一致，你覺得原因可能為何? \n",
    "print(\"不一致，可能因為抽樣的樣本導致的誤差\")"
   ]
  },
  {
   "cell_type": "code",
   "execution_count": null,
   "metadata": {},
   "outputs": [],
   "source": []
  }
 ],
 "metadata": {
  "kernelspec": {
   "display_name": "Python 3",
   "language": "python",
   "name": "python3"
  },
  "language_info": {
   "codemirror_mode": {
    "name": "ipython",
    "version": 3
   },
   "file_extension": ".py",
   "mimetype": "text/x-python",
   "name": "python",
   "nbconvert_exporter": "python",
   "pygments_lexer": "ipython3",
   "version": "3.8.5"
  }
 },
 "nbformat": 4,
 "nbformat_minor": 4
}
