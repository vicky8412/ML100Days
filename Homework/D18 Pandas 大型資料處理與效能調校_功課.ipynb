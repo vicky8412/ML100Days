{
 "cells": [
  {
   "cell_type": "code",
   "execution_count": null,
   "metadata": {},
   "outputs": [],
   "source": [
    "1. 在速度較慢的時候，可以先從哪邊開始檢查？\n",
    "\n",
    "ANS. 先檢查資料型態，可以改成使用pkl文件格式以減少執行時間；再者在程式中多使用agg和內建函數；最後盡量多使用向量化的資料處理"
   ]
  },
  {
   "cell_type": "code",
   "execution_count": null,
   "metadata": {},
   "outputs": [],
   "source": [
    "2. 資料過大時應採取什麼方式讓記憶體占用量下降？\n",
    "\n",
    "ANS. 欄位的型態降級，不需要存太多元素在一個數字中\n",
    "將整數型態 int 改成 uint 減少記憶體正用空間\n",
    "(將資料型態進行降階:小數點更少) → 例如 float64 佔記憶體太大, 降為 float32 或是 int 可以降低儲存記憶體空間"
   ]
  }
 ],
 "metadata": {
  "kernelspec": {
   "display_name": "Python 3",
   "language": "python",
   "name": "python3"
  },
  "language_info": {
   "codemirror_mode": {
    "name": "ipython",
    "version": 3
   },
   "file_extension": ".py",
   "mimetype": "text/x-python",
   "name": "python",
   "nbconvert_exporter": "python",
   "pygments_lexer": "ipython3",
   "version": "3.8.5"
  }
 },
 "nbformat": 4,
 "nbformat_minor": 4
}
