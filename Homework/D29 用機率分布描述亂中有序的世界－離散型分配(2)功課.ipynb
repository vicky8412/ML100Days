{
 "cells": [
  {
   "cell_type": "markdown",
   "metadata": {},
   "source": [
    "作業:\n",
    "今天學到五種分配，包含，\n",
    "離散均勻分配( Discrete Uniform Distribution )\n",
    "伯努利分配( Bernoulli Distribution )\n",
    "二項分配(Binomial Distribution)\n",
    "負二項分配(Negative Binomial Distribution)\n",
    "超幾何分配(Hypergeometric Distribution)\n",
    "今天我們透過作業中的問題，回想今天的內容吧!"
   ]
  },
  {
   "cell_type": "markdown",
   "metadata": {},
   "source": [
    "# Q1: 大樂透的頭獎，你必須從49個挑選出 6 個號碼，且這六個號碼與頭獎的六個號碼一致，頭獎的機率是屬於哪一種分配?\n",
    "\n",
    "print('Ans: 超幾何分布 (Hypergeometric distribution)')"
   ]
  },
  {
   "cell_type": "markdown",
   "metadata": {},
   "source": [
    "# Q2: 運用範例的 python 程式碼，計算大樂透的中頭獎機率?"
   ]
  },
  {
   "cell_type": "code",
   "execution_count": 3,
   "metadata": {},
   "outputs": [
    {
     "name": "stdout",
     "output_type": "stream",
     "text": [
      "7.151123842018523e-08\n"
     ]
    }
   ],
   "source": [
    "# library\n",
    "import matplotlib.pyplot as plt\n",
    "import numpy as np\n",
    "import pandas as pd\n",
    "from scipy import stats\n",
    "import math\n",
    "import statistics\n",
    "N = 49\n",
    "K = 6\n",
    "n = 6\n",
    "X = 6\n",
    "\n",
    "probs = stats.hypergeom.pmf(X,N,K,n)\n",
    "print(probs)"
   ]
  },
  {
   "cell_type": "markdown",
   "metadata": {},
   "source": [
    "# Q3: 你覺得電腦簽注的中獎機率，和人腦簽注相比，哪一個機率高?"
   ]
  },
  {
   "cell_type": "code",
   "execution_count": 4,
   "metadata": {},
   "outputs": [
    {
     "name": "stdout",
     "output_type": "stream",
     "text": [
      "Ans: \"理論\"上應該要一樣高。\n"
     ]
    }
   ],
   "source": [
    "print('Ans: \"理論\"上應該要一樣高。')"
   ]
  },
  {
   "cell_type": "code",
   "execution_count": null,
   "metadata": {},
   "outputs": [],
   "source": []
  }
 ],
 "metadata": {
  "kernelspec": {
   "display_name": "Python 3",
   "language": "python",
   "name": "python3"
  },
  "language_info": {
   "codemirror_mode": {
    "name": "ipython",
    "version": 3
   },
   "file_extension": ".py",
   "mimetype": "text/x-python",
   "name": "python",
   "nbconvert_exporter": "python",
   "pygments_lexer": "ipython3",
   "version": "3.8.5"
  }
 },
 "nbformat": 4,
 "nbformat_minor": 4
}
