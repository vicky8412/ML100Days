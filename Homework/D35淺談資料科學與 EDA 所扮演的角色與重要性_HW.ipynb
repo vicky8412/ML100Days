{
 "cells": [
  {
   "cell_type": "markdown",
   "metadata": {},
   "source": [
    "# 作業:\n",
    "今天課程中以一個案例，說明資料分析的流程與探索性分析，是否對於課程中一開始的問題，更有想法了?!\n",
    "Q1: 哪一個問題不適合用資料科學解決?\n",
    "Q2: 以你的角度來分析，為什麼這樣的問題，較不適合用資料來解決?\n",
    "將答案寫在論壇中，大家一起互相討論激盪。"
   ]
  },
  {
   "cell_type": "code",
   "execution_count": null,
   "metadata": {},
   "outputs": [],
   "source": [
    "# Q1：挑選 Mr./Ms. Right\n",
    "# Q2：挑選另一半這樣的問題很難進行量化，甚至連資料都難以取得，無法進行客觀的資料蒐集即問題假設。"
   ]
  }
 ],
 "metadata": {
  "kernelspec": {
   "display_name": "Python 3",
   "language": "python",
   "name": "python3"
  },
  "language_info": {
   "codemirror_mode": {
    "name": "ipython",
    "version": 3
   },
   "file_extension": ".py",
   "mimetype": "text/x-python",
   "name": "python",
   "nbconvert_exporter": "python",
   "pygments_lexer": "ipython3",
   "version": "3.8.5"
  }
 },
 "nbformat": 4,
 "nbformat_minor": 4
}
